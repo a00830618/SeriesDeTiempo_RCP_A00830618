{
  "nbformat": 4,
  "nbformat_minor": 0,
  "metadata": {
    "colab": {
      "provenance": []
    },
    "kernelspec": {
      "name": "python3",
      "display_name": "Python 3"
    },
    "language_info": {
      "name": "python"
    }
  },
  "cells": [
    {
      "cell_type": "markdown",
      "source": [],
      "metadata": {
        "id": "CpTv-dK11Xn-"
      }
    },
    {
      "cell_type": "markdown",
      "source": [
        "# Series de tiempo\n",
        "## Patricio Elizondo Martínez A01284959\n",
        "### Sesión 2 - 17 feb 2023"
      ],
      "metadata": {
        "id": "KWomAaZgnVv3"
      }
    },
    {
      "cell_type": "markdown",
      "source": [
        "Crea una lista que contenga los integrantes de tu famila"
      ],
      "metadata": {
        "id": "p27nbQsznn3Z"
      }
    },
    {
      "cell_type": "code",
      "source": [
        "mifamilia= ['Carlos', 'Marycarmen', 'Carlos', 'Pato']"
      ],
      "metadata": {
        "id": "Feb5z6UNn4aR"
      },
      "execution_count": null,
      "outputs": []
    },
    {
      "cell_type": "markdown",
      "source": [
        "Vamos a elegir el integrante 1, *Nota: python comienza a contar desde cero*"
      ],
      "metadata": {
        "id": "YJAFBTuMtT01"
      }
    },
    {
      "cell_type": "code",
      "source": [
        "mifamilia[0]"
      ],
      "metadata": {
        "id": "Ixh0UsWxtS8K",
        "outputId": "6c73ce76-f713-4606-b2e7-c0b7c390cb8b",
        "colab": {
          "base_uri": "https://localhost:8080/",
          "height": 35
        }
      },
      "execution_count": null,
      "outputs": [
        {
          "output_type": "execute_result",
          "data": {
            "text/plain": [
              "'Carlos'"
            ],
            "application/vnd.google.colaboratory.intrinsic+json": {
              "type": "string"
            }
          },
          "metadata": {},
          "execution_count": 2
        }
      ]
    },
    {
      "cell_type": "markdown",
      "source": [
        "creamos una lista que contenga números"
      ],
      "metadata": {
        "id": "BhZd5FqbqR-w"
      }
    },
    {
      "cell_type": "code",
      "source": [
        "numeros =[6,12,9,24,1,17]"
      ],
      "metadata": {
        "id": "FGC3sC38qWRl"
      },
      "execution_count": null,
      "outputs": []
    },
    {
      "cell_type": "markdown",
      "source": [
        "importamos un par de librerias/módulos. Que nos ayudaran a manejar números"
      ],
      "metadata": {
        "id": "garsXSaUrF2I"
      }
    },
    {
      "cell_type": "code",
      "source": [
        "import numpy as np\n",
        "import pandas as pd"
      ],
      "metadata": {
        "id": "bU_nvGiHqZwI"
      },
      "execution_count": null,
      "outputs": []
    },
    {
      "cell_type": "code",
      "source": [
        "type(numeros)"
      ],
      "metadata": {
        "id": "k2YsEzHQnzL8",
        "outputId": "0b9a0d3c-391e-4944-feb1-a5fb4b55f3b2",
        "colab": {
          "base_uri": "https://localhost:8080/"
        }
      },
      "execution_count": null,
      "outputs": [
        {
          "output_type": "execute_result",
          "data": {
            "text/plain": [
              "list"
            ]
          },
          "metadata": {},
          "execution_count": 5
        }
      ]
    },
    {
      "cell_type": "markdown",
      "source": [
        "Calcularemos la media de estos números y los ordenaremos"
      ],
      "metadata": {
        "id": "AzI1hXZ-rPU7"
      }
    },
    {
      "cell_type": "code",
      "source": [
        "# primero convertimos estos numeros en arreglo\n",
        "numeros = np.array(numeros)"
      ],
      "metadata": {
        "id": "QOJzJK_4rXz5"
      },
      "execution_count": null,
      "outputs": []
    },
    {
      "cell_type": "code",
      "source": [
        "type(numeros)"
      ],
      "metadata": {
        "id": "b6T0CRYVn5AH",
        "outputId": "e940688a-72a3-44f4-8be7-c646420c1681",
        "colab": {
          "base_uri": "https://localhost:8080/"
        }
      },
      "execution_count": null,
      "outputs": [
        {
          "output_type": "execute_result",
          "data": {
            "text/plain": [
              "numpy.ndarray"
            ]
          },
          "metadata": {},
          "execution_count": 8
        }
      ]
    },
    {
      "cell_type": "code",
      "source": [
        "#calculamos la media y redondeamos a un decimal\n",
        "numeros.mean().round(1)"
      ],
      "metadata": {
        "id": "xv8JeXHHrnW8",
        "outputId": "83b13f1b-ad1a-4bf3-f123-0c1a3841882f",
        "colab": {
          "base_uri": "https://localhost:8080/"
        }
      },
      "execution_count": null,
      "outputs": [
        {
          "output_type": "execute_result",
          "data": {
            "text/plain": [
              "11.5"
            ]
          },
          "metadata": {},
          "execution_count": 9
        }
      ]
    },
    {
      "cell_type": "code",
      "source": [
        "#ordenamos los números con .sort()\n",
        "numeros.sort()"
      ],
      "metadata": {
        "id": "0QLhe5dwrx6o"
      },
      "execution_count": null,
      "outputs": []
    },
    {
      "cell_type": "code",
      "source": [
        "#mostramos los números\n",
        "numeros"
      ],
      "metadata": {
        "id": "QemwgdJCr7o2",
        "outputId": "507cebd4-2524-4177-fac8-e0235302ca59",
        "colab": {
          "base_uri": "https://localhost:8080/"
        }
      },
      "execution_count": null,
      "outputs": [
        {
          "output_type": "execute_result",
          "data": {
            "text/plain": [
              "array([ 1,  6,  9, 12, 17, 24])"
            ]
          },
          "metadata": {},
          "execution_count": 11
        }
      ]
    },
    {
      "cell_type": "code",
      "source": [
        "numeros.var().round(2)"
      ],
      "metadata": {
        "id": "qk3Zqx76oPJe",
        "outputId": "6a7973c5-bd66-4322-b7ec-6a1ded99f9cb",
        "colab": {
          "base_uri": "https://localhost:8080/"
        }
      },
      "execution_count": null,
      "outputs": [
        {
          "output_type": "execute_result",
          "data": {
            "text/plain": [
              "55.58"
            ]
          },
          "metadata": {},
          "execution_count": 12
        }
      ]
    },
    {
      "cell_type": "markdown",
      "source": [
        "Pandas utiliza una estructura de datos llamada **DataFrames**, que no son otra cosa que datos organizados en filas y columnas"
      ],
      "metadata": {
        "id": "oVt4bP0GtpMh"
      }
    },
    {
      "cell_type": "code",
      "source": [
        "##creamos un diccionario \n",
        "dic_grupo = {'nombre':['Juan','Ale', 'Jime', 'David'], \n",
        "             'Edad':[23,14,28,18],\n",
        "             'calificación':[90,70,45,85]}"
      ],
      "metadata": {
        "id": "K4gLhsaWuqiP"
      },
      "execution_count": null,
      "outputs": []
    },
    {
      "cell_type": "code",
      "source": [
        "##vemos su contenido\n",
        "dic_grupo"
      ],
      "metadata": {
        "id": "Fjtzr2EkvqjO",
        "outputId": "d45fa060-a852-4fe3-c160-453800afb1c2",
        "colab": {
          "base_uri": "https://localhost:8080/"
        }
      },
      "execution_count": null,
      "outputs": [
        {
          "output_type": "execute_result",
          "data": {
            "text/plain": [
              "{'nombre': ['Juan', 'Ale', 'Jime', 'David'],\n",
              " 'Edad': [23, 14, 28, 18],\n",
              " 'calificación': [90, 70, 45, 85]}"
            ]
          },
          "metadata": {},
          "execution_count": 14
        }
      ]
    },
    {
      "cell_type": "code",
      "source": [
        "## ahora lo convertimos en DataFrame con pandas\n",
        "grupox = pd.DataFrame(dic_grupo)"
      ],
      "metadata": {
        "id": "OoviX2cUvuy6"
      },
      "execution_count": null,
      "outputs": []
    },
    {
      "cell_type": "code",
      "source": [
        "# ahora vemos el dataframe\n",
        "grupox"
      ],
      "metadata": {
        "id": "ZDhZo2vzv6eN",
        "outputId": "dbb16d26-8c03-4c3a-a785-7b1243df51d8",
        "colab": {
          "base_uri": "https://localhost:8080/",
          "height": 175
        }
      },
      "execution_count": null,
      "outputs": [
        {
          "output_type": "execute_result",
          "data": {
            "text/plain": [
              "  nombre  Edad  calificación\n",
              "0   Juan    23            90\n",
              "1    Ale    14            70\n",
              "2   Jime    28            45\n",
              "3  David    18            85"
            ],
            "text/html": [
              "\n",
              "  <div id=\"df-ae302517-37ec-4af5-831b-8171a083d702\">\n",
              "    <div class=\"colab-df-container\">\n",
              "      <div>\n",
              "<style scoped>\n",
              "    .dataframe tbody tr th:only-of-type {\n",
              "        vertical-align: middle;\n",
              "    }\n",
              "\n",
              "    .dataframe tbody tr th {\n",
              "        vertical-align: top;\n",
              "    }\n",
              "\n",
              "    .dataframe thead th {\n",
              "        text-align: right;\n",
              "    }\n",
              "</style>\n",
              "<table border=\"1\" class=\"dataframe\">\n",
              "  <thead>\n",
              "    <tr style=\"text-align: right;\">\n",
              "      <th></th>\n",
              "      <th>nombre</th>\n",
              "      <th>Edad</th>\n",
              "      <th>calificación</th>\n",
              "    </tr>\n",
              "  </thead>\n",
              "  <tbody>\n",
              "    <tr>\n",
              "      <th>0</th>\n",
              "      <td>Juan</td>\n",
              "      <td>23</td>\n",
              "      <td>90</td>\n",
              "    </tr>\n",
              "    <tr>\n",
              "      <th>1</th>\n",
              "      <td>Ale</td>\n",
              "      <td>14</td>\n",
              "      <td>70</td>\n",
              "    </tr>\n",
              "    <tr>\n",
              "      <th>2</th>\n",
              "      <td>Jime</td>\n",
              "      <td>28</td>\n",
              "      <td>45</td>\n",
              "    </tr>\n",
              "    <tr>\n",
              "      <th>3</th>\n",
              "      <td>David</td>\n",
              "      <td>18</td>\n",
              "      <td>85</td>\n",
              "    </tr>\n",
              "  </tbody>\n",
              "</table>\n",
              "</div>\n",
              "      <button class=\"colab-df-convert\" onclick=\"convertToInteractive('df-ae302517-37ec-4af5-831b-8171a083d702')\"\n",
              "              title=\"Convert this dataframe to an interactive table.\"\n",
              "              style=\"display:none;\">\n",
              "        \n",
              "  <svg xmlns=\"http://www.w3.org/2000/svg\" height=\"24px\"viewBox=\"0 0 24 24\"\n",
              "       width=\"24px\">\n",
              "    <path d=\"M0 0h24v24H0V0z\" fill=\"none\"/>\n",
              "    <path d=\"M18.56 5.44l.94 2.06.94-2.06 2.06-.94-2.06-.94-.94-2.06-.94 2.06-2.06.94zm-11 1L8.5 8.5l.94-2.06 2.06-.94-2.06-.94L8.5 2.5l-.94 2.06-2.06.94zm10 10l.94 2.06.94-2.06 2.06-.94-2.06-.94-.94-2.06-.94 2.06-2.06.94z\"/><path d=\"M17.41 7.96l-1.37-1.37c-.4-.4-.92-.59-1.43-.59-.52 0-1.04.2-1.43.59L10.3 9.45l-7.72 7.72c-.78.78-.78 2.05 0 2.83L4 21.41c.39.39.9.59 1.41.59.51 0 1.02-.2 1.41-.59l7.78-7.78 2.81-2.81c.8-.78.8-2.07 0-2.86zM5.41 20L4 18.59l7.72-7.72 1.47 1.35L5.41 20z\"/>\n",
              "  </svg>\n",
              "      </button>\n",
              "      \n",
              "  <style>\n",
              "    .colab-df-container {\n",
              "      display:flex;\n",
              "      flex-wrap:wrap;\n",
              "      gap: 12px;\n",
              "    }\n",
              "\n",
              "    .colab-df-convert {\n",
              "      background-color: #E8F0FE;\n",
              "      border: none;\n",
              "      border-radius: 50%;\n",
              "      cursor: pointer;\n",
              "      display: none;\n",
              "      fill: #1967D2;\n",
              "      height: 32px;\n",
              "      padding: 0 0 0 0;\n",
              "      width: 32px;\n",
              "    }\n",
              "\n",
              "    .colab-df-convert:hover {\n",
              "      background-color: #E2EBFA;\n",
              "      box-shadow: 0px 1px 2px rgba(60, 64, 67, 0.3), 0px 1px 3px 1px rgba(60, 64, 67, 0.15);\n",
              "      fill: #174EA6;\n",
              "    }\n",
              "\n",
              "    [theme=dark] .colab-df-convert {\n",
              "      background-color: #3B4455;\n",
              "      fill: #D2E3FC;\n",
              "    }\n",
              "\n",
              "    [theme=dark] .colab-df-convert:hover {\n",
              "      background-color: #434B5C;\n",
              "      box-shadow: 0px 1px 3px 1px rgba(0, 0, 0, 0.15);\n",
              "      filter: drop-shadow(0px 1px 2px rgba(0, 0, 0, 0.3));\n",
              "      fill: #FFFFFF;\n",
              "    }\n",
              "  </style>\n",
              "\n",
              "      <script>\n",
              "        const buttonEl =\n",
              "          document.querySelector('#df-ae302517-37ec-4af5-831b-8171a083d702 button.colab-df-convert');\n",
              "        buttonEl.style.display =\n",
              "          google.colab.kernel.accessAllowed ? 'block' : 'none';\n",
              "\n",
              "        async function convertToInteractive(key) {\n",
              "          const element = document.querySelector('#df-ae302517-37ec-4af5-831b-8171a083d702');\n",
              "          const dataTable =\n",
              "            await google.colab.kernel.invokeFunction('convertToInteractive',\n",
              "                                                     [key], {});\n",
              "          if (!dataTable) return;\n",
              "\n",
              "          const docLinkHtml = 'Like what you see? Visit the ' +\n",
              "            '<a target=\"_blank\" href=https://colab.research.google.com/notebooks/data_table.ipynb>data table notebook</a>'\n",
              "            + ' to learn more about interactive tables.';\n",
              "          element.innerHTML = '';\n",
              "          dataTable['output_type'] = 'display_data';\n",
              "          await google.colab.output.renderOutput(dataTable, element);\n",
              "          const docLink = document.createElement('div');\n",
              "          docLink.innerHTML = docLinkHtml;\n",
              "          element.appendChild(docLink);\n",
              "        }\n",
              "      </script>\n",
              "    </div>\n",
              "  </div>\n",
              "  "
            ]
          },
          "metadata": {},
          "execution_count": 16
        }
      ]
    },
    {
      "cell_type": "code",
      "source": [
        "# El nombre de las columnas se llama columns\n",
        "grupox.columns"
      ],
      "metadata": {
        "id": "lF5lYUx8wA2G",
        "outputId": "9f9ca144-13d6-45b0-9350-af79af44c5ba",
        "colab": {
          "base_uri": "https://localhost:8080/"
        }
      },
      "execution_count": null,
      "outputs": [
        {
          "output_type": "execute_result",
          "data": {
            "text/plain": [
              "Index(['nombre', 'Edad', 'calificación'], dtype='object')"
            ]
          },
          "metadata": {},
          "execution_count": 17
        }
      ]
    },
    {
      "cell_type": "code",
      "source": [
        "# el nombre de las filas se llama Index\n",
        "grupox.index"
      ],
      "metadata": {
        "id": "0JYl8Ah_wKJb",
        "outputId": "7a60f84e-5412-4a4e-c6fa-4f90d365055d",
        "colab": {
          "base_uri": "https://localhost:8080/"
        }
      },
      "execution_count": null,
      "outputs": [
        {
          "output_type": "execute_result",
          "data": {
            "text/plain": [
              "RangeIndex(start=0, stop=4, step=1)"
            ]
          },
          "metadata": {},
          "execution_count": 20
        }
      ]
    },
    {
      "cell_type": "code",
      "source": [
        "# vemos su estructura con shape\n",
        "grupox.shape"
      ],
      "metadata": {
        "id": "weV0n0gBwS6a",
        "outputId": "d2dc26ca-9d51-4e9e-a384-d76ef76332ef",
        "colab": {
          "base_uri": "https://localhost:8080/"
        }
      },
      "execution_count": null,
      "outputs": [
        {
          "output_type": "execute_result",
          "data": {
            "text/plain": [
              "(4, 3)"
            ]
          },
          "metadata": {},
          "execution_count": 21
        }
      ]
    },
    {
      "cell_type": "code",
      "source": [
        "# seleccionamos la columna nombre\n",
        "grupox[\"nombre\"]"
      ],
      "metadata": {
        "id": "QQYW2JuCxpSh",
        "outputId": "643e8e8c-5130-4d0e-e541-9820a56ce8ba",
        "colab": {
          "base_uri": "https://localhost:8080/"
        }
      },
      "execution_count": null,
      "outputs": [
        {
          "output_type": "execute_result",
          "data": {
            "text/plain": [
              "0     Juan\n",
              "1      Ale\n",
              "2     Jime\n",
              "3    David\n",
              "Name: nombre, dtype: object"
            ]
          },
          "metadata": {},
          "execution_count": 24
        }
      ]
    },
    {
      "cell_type": "code",
      "source": [
        "# seleccionamos la columna Edad\n",
        "grupox[\"Edad\"]"
      ],
      "metadata": {
        "id": "PbseyozDxpdP",
        "outputId": "bd6ea499-4bcc-4b5c-e32f-caa9995043c8",
        "colab": {
          "base_uri": "https://localhost:8080/"
        }
      },
      "execution_count": null,
      "outputs": [
        {
          "output_type": "execute_result",
          "data": {
            "text/plain": [
              "0    23\n",
              "1    14\n",
              "2    28\n",
              "3    18\n",
              "Name: Edad, dtype: int64"
            ]
          },
          "metadata": {},
          "execution_count": 26
        }
      ]
    },
    {
      "cell_type": "code",
      "source": [
        "# seleccionamos la columna edad y la columna nombre\n",
        "grupox[[\"nombre\", \"Edad\"]]"
      ],
      "metadata": {
        "id": "_KsenuyrxzUZ",
        "outputId": "6b38dfbd-d15e-476e-c906-fda663780959",
        "colab": {
          "base_uri": "https://localhost:8080/",
          "height": 175
        }
      },
      "execution_count": null,
      "outputs": [
        {
          "output_type": "execute_result",
          "data": {
            "text/plain": [
              "  nombre  Edad\n",
              "0   Juan    23\n",
              "1    Ale    14\n",
              "2   Jime    28\n",
              "3  David    18"
            ],
            "text/html": [
              "\n",
              "  <div id=\"df-2c98923a-4b29-4ae8-adae-c802a0c74f89\">\n",
              "    <div class=\"colab-df-container\">\n",
              "      <div>\n",
              "<style scoped>\n",
              "    .dataframe tbody tr th:only-of-type {\n",
              "        vertical-align: middle;\n",
              "    }\n",
              "\n",
              "    .dataframe tbody tr th {\n",
              "        vertical-align: top;\n",
              "    }\n",
              "\n",
              "    .dataframe thead th {\n",
              "        text-align: right;\n",
              "    }\n",
              "</style>\n",
              "<table border=\"1\" class=\"dataframe\">\n",
              "  <thead>\n",
              "    <tr style=\"text-align: right;\">\n",
              "      <th></th>\n",
              "      <th>nombre</th>\n",
              "      <th>Edad</th>\n",
              "    </tr>\n",
              "  </thead>\n",
              "  <tbody>\n",
              "    <tr>\n",
              "      <th>0</th>\n",
              "      <td>Juan</td>\n",
              "      <td>23</td>\n",
              "    </tr>\n",
              "    <tr>\n",
              "      <th>1</th>\n",
              "      <td>Ale</td>\n",
              "      <td>14</td>\n",
              "    </tr>\n",
              "    <tr>\n",
              "      <th>2</th>\n",
              "      <td>Jime</td>\n",
              "      <td>28</td>\n",
              "    </tr>\n",
              "    <tr>\n",
              "      <th>3</th>\n",
              "      <td>David</td>\n",
              "      <td>18</td>\n",
              "    </tr>\n",
              "  </tbody>\n",
              "</table>\n",
              "</div>\n",
              "      <button class=\"colab-df-convert\" onclick=\"convertToInteractive('df-2c98923a-4b29-4ae8-adae-c802a0c74f89')\"\n",
              "              title=\"Convert this dataframe to an interactive table.\"\n",
              "              style=\"display:none;\">\n",
              "        \n",
              "  <svg xmlns=\"http://www.w3.org/2000/svg\" height=\"24px\"viewBox=\"0 0 24 24\"\n",
              "       width=\"24px\">\n",
              "    <path d=\"M0 0h24v24H0V0z\" fill=\"none\"/>\n",
              "    <path d=\"M18.56 5.44l.94 2.06.94-2.06 2.06-.94-2.06-.94-.94-2.06-.94 2.06-2.06.94zm-11 1L8.5 8.5l.94-2.06 2.06-.94-2.06-.94L8.5 2.5l-.94 2.06-2.06.94zm10 10l.94 2.06.94-2.06 2.06-.94-2.06-.94-.94-2.06-.94 2.06-2.06.94z\"/><path d=\"M17.41 7.96l-1.37-1.37c-.4-.4-.92-.59-1.43-.59-.52 0-1.04.2-1.43.59L10.3 9.45l-7.72 7.72c-.78.78-.78 2.05 0 2.83L4 21.41c.39.39.9.59 1.41.59.51 0 1.02-.2 1.41-.59l7.78-7.78 2.81-2.81c.8-.78.8-2.07 0-2.86zM5.41 20L4 18.59l7.72-7.72 1.47 1.35L5.41 20z\"/>\n",
              "  </svg>\n",
              "      </button>\n",
              "      \n",
              "  <style>\n",
              "    .colab-df-container {\n",
              "      display:flex;\n",
              "      flex-wrap:wrap;\n",
              "      gap: 12px;\n",
              "    }\n",
              "\n",
              "    .colab-df-convert {\n",
              "      background-color: #E8F0FE;\n",
              "      border: none;\n",
              "      border-radius: 50%;\n",
              "      cursor: pointer;\n",
              "      display: none;\n",
              "      fill: #1967D2;\n",
              "      height: 32px;\n",
              "      padding: 0 0 0 0;\n",
              "      width: 32px;\n",
              "    }\n",
              "\n",
              "    .colab-df-convert:hover {\n",
              "      background-color: #E2EBFA;\n",
              "      box-shadow: 0px 1px 2px rgba(60, 64, 67, 0.3), 0px 1px 3px 1px rgba(60, 64, 67, 0.15);\n",
              "      fill: #174EA6;\n",
              "    }\n",
              "\n",
              "    [theme=dark] .colab-df-convert {\n",
              "      background-color: #3B4455;\n",
              "      fill: #D2E3FC;\n",
              "    }\n",
              "\n",
              "    [theme=dark] .colab-df-convert:hover {\n",
              "      background-color: #434B5C;\n",
              "      box-shadow: 0px 1px 3px 1px rgba(0, 0, 0, 0.15);\n",
              "      filter: drop-shadow(0px 1px 2px rgba(0, 0, 0, 0.3));\n",
              "      fill: #FFFFFF;\n",
              "    }\n",
              "  </style>\n",
              "\n",
              "      <script>\n",
              "        const buttonEl =\n",
              "          document.querySelector('#df-2c98923a-4b29-4ae8-adae-c802a0c74f89 button.colab-df-convert');\n",
              "        buttonEl.style.display =\n",
              "          google.colab.kernel.accessAllowed ? 'block' : 'none';\n",
              "\n",
              "        async function convertToInteractive(key) {\n",
              "          const element = document.querySelector('#df-2c98923a-4b29-4ae8-adae-c802a0c74f89');\n",
              "          const dataTable =\n",
              "            await google.colab.kernel.invokeFunction('convertToInteractive',\n",
              "                                                     [key], {});\n",
              "          if (!dataTable) return;\n",
              "\n",
              "          const docLinkHtml = 'Like what you see? Visit the ' +\n",
              "            '<a target=\"_blank\" href=https://colab.research.google.com/notebooks/data_table.ipynb>data table notebook</a>'\n",
              "            + ' to learn more about interactive tables.';\n",
              "          element.innerHTML = '';\n",
              "          dataTable['output_type'] = 'display_data';\n",
              "          await google.colab.output.renderOutput(dataTable, element);\n",
              "          const docLink = document.createElement('div');\n",
              "          docLink.innerHTML = docLinkHtml;\n",
              "          element.appendChild(docLink);\n",
              "        }\n",
              "      </script>\n",
              "    </div>\n",
              "  </div>\n",
              "  "
            ]
          },
          "metadata": {},
          "execution_count": 28
        }
      ]
    },
    {
      "cell_type": "markdown",
      "source": [
        "## Repaso de inferencia"
      ],
      "metadata": {
        "id": "aODKCnGcxiSE"
      }
    },
    {
      "cell_type": "markdown",
      "source": [
        "Vamos a instalar yahoo finance para descargar precio de las acciones  "
      ],
      "metadata": {
        "id": "ydsw2gko0GJm"
      }
    },
    {
      "cell_type": "code",
      "source": [
        "pip install yfinance"
      ],
      "metadata": {
        "id": "T1fNPyUMwjNn"
      },
      "execution_count": null,
      "outputs": []
    },
    {
      "cell_type": "markdown",
      "source": [
        "ya instalada la libreria, podemos decirle a python que la use"
      ],
      "metadata": {
        "id": "Ien_OfXj0Xhb"
      }
    },
    {
      "cell_type": "code",
      "source": [
        "import yfinance as yf\n",
        "import matplotlib.pyplot as plt\n",
        "%matplotlib inline"
      ],
      "metadata": {
        "id": "e-Cs5_Hz0WJ1"
      },
      "execution_count": null,
      "outputs": []
    },
    {
      "cell_type": "markdown",
      "source": [
        "ahora importamos los datos de las acciones de walmart de México"
      ],
      "metadata": {
        "id": "oXd7yxlr0fxw"
      }
    },
    {
      "cell_type": "code",
      "source": [
        "walmex = yf.download('WALMEX.MX', \n",
        "                       start='2018-01-01', \n",
        "                       end='2022-12-31',\n",
        "                       progress=False)"
      ],
      "metadata": {
        "id": "gqVNRk4s0k32"
      },
      "execution_count": null,
      "outputs": []
    },
    {
      "cell_type": "markdown",
      "source": [
        "damos una mirada rápida a lo que contiene este dataframe con .head()"
      ],
      "metadata": {
        "id": "zHmlV-pl01VB"
      }
    },
    {
      "cell_type": "code",
      "source": [
        "walmex.head()"
      ],
      "metadata": {
        "id": "cTP9tVWvqwn1",
        "outputId": "cd79b78c-9a42-44c9-d36d-2e66dd0c0dc2",
        "colab": {
          "base_uri": "https://localhost:8080/",
          "height": 238
        }
      },
      "execution_count": null,
      "outputs": [
        {
          "output_type": "execute_result",
          "data": {
            "text/plain": [
              "                 Open       High        Low      Close  Adj Close    Volume\n",
              "Date                                                                       \n",
              "2018-01-02  48.150002  48.590000  47.700001  48.029999  44.102345   8781274\n",
              "2018-01-03  47.910000  48.000000  47.380001  47.590000  43.698334  12656360\n",
              "2018-01-04  47.599998  48.209999  47.490002  47.610001  43.716694  16650871\n",
              "2018-01-05  47.700001  48.169998  47.549999  48.090000  44.157444   9575059\n",
              "2018-01-08  48.099998  48.500000  47.980000  48.320000  44.368637  13856218"
            ],
            "text/html": [
              "\n",
              "  <div id=\"df-e45f59cf-c5cc-4c8d-a70c-b67112f28661\">\n",
              "    <div class=\"colab-df-container\">\n",
              "      <div>\n",
              "<style scoped>\n",
              "    .dataframe tbody tr th:only-of-type {\n",
              "        vertical-align: middle;\n",
              "    }\n",
              "\n",
              "    .dataframe tbody tr th {\n",
              "        vertical-align: top;\n",
              "    }\n",
              "\n",
              "    .dataframe thead th {\n",
              "        text-align: right;\n",
              "    }\n",
              "</style>\n",
              "<table border=\"1\" class=\"dataframe\">\n",
              "  <thead>\n",
              "    <tr style=\"text-align: right;\">\n",
              "      <th></th>\n",
              "      <th>Open</th>\n",
              "      <th>High</th>\n",
              "      <th>Low</th>\n",
              "      <th>Close</th>\n",
              "      <th>Adj Close</th>\n",
              "      <th>Volume</th>\n",
              "    </tr>\n",
              "    <tr>\n",
              "      <th>Date</th>\n",
              "      <th></th>\n",
              "      <th></th>\n",
              "      <th></th>\n",
              "      <th></th>\n",
              "      <th></th>\n",
              "      <th></th>\n",
              "    </tr>\n",
              "  </thead>\n",
              "  <tbody>\n",
              "    <tr>\n",
              "      <th>2018-01-02</th>\n",
              "      <td>48.150002</td>\n",
              "      <td>48.590000</td>\n",
              "      <td>47.700001</td>\n",
              "      <td>48.029999</td>\n",
              "      <td>44.102345</td>\n",
              "      <td>8781274</td>\n",
              "    </tr>\n",
              "    <tr>\n",
              "      <th>2018-01-03</th>\n",
              "      <td>47.910000</td>\n",
              "      <td>48.000000</td>\n",
              "      <td>47.380001</td>\n",
              "      <td>47.590000</td>\n",
              "      <td>43.698334</td>\n",
              "      <td>12656360</td>\n",
              "    </tr>\n",
              "    <tr>\n",
              "      <th>2018-01-04</th>\n",
              "      <td>47.599998</td>\n",
              "      <td>48.209999</td>\n",
              "      <td>47.490002</td>\n",
              "      <td>47.610001</td>\n",
              "      <td>43.716694</td>\n",
              "      <td>16650871</td>\n",
              "    </tr>\n",
              "    <tr>\n",
              "      <th>2018-01-05</th>\n",
              "      <td>47.700001</td>\n",
              "      <td>48.169998</td>\n",
              "      <td>47.549999</td>\n",
              "      <td>48.090000</td>\n",
              "      <td>44.157444</td>\n",
              "      <td>9575059</td>\n",
              "    </tr>\n",
              "    <tr>\n",
              "      <th>2018-01-08</th>\n",
              "      <td>48.099998</td>\n",
              "      <td>48.500000</td>\n",
              "      <td>47.980000</td>\n",
              "      <td>48.320000</td>\n",
              "      <td>44.368637</td>\n",
              "      <td>13856218</td>\n",
              "    </tr>\n",
              "  </tbody>\n",
              "</table>\n",
              "</div>\n",
              "      <button class=\"colab-df-convert\" onclick=\"convertToInteractive('df-e45f59cf-c5cc-4c8d-a70c-b67112f28661')\"\n",
              "              title=\"Convert this dataframe to an interactive table.\"\n",
              "              style=\"display:none;\">\n",
              "        \n",
              "  <svg xmlns=\"http://www.w3.org/2000/svg\" height=\"24px\"viewBox=\"0 0 24 24\"\n",
              "       width=\"24px\">\n",
              "    <path d=\"M0 0h24v24H0V0z\" fill=\"none\"/>\n",
              "    <path d=\"M18.56 5.44l.94 2.06.94-2.06 2.06-.94-2.06-.94-.94-2.06-.94 2.06-2.06.94zm-11 1L8.5 8.5l.94-2.06 2.06-.94-2.06-.94L8.5 2.5l-.94 2.06-2.06.94zm10 10l.94 2.06.94-2.06 2.06-.94-2.06-.94-.94-2.06-.94 2.06-2.06.94z\"/><path d=\"M17.41 7.96l-1.37-1.37c-.4-.4-.92-.59-1.43-.59-.52 0-1.04.2-1.43.59L10.3 9.45l-7.72 7.72c-.78.78-.78 2.05 0 2.83L4 21.41c.39.39.9.59 1.41.59.51 0 1.02-.2 1.41-.59l7.78-7.78 2.81-2.81c.8-.78.8-2.07 0-2.86zM5.41 20L4 18.59l7.72-7.72 1.47 1.35L5.41 20z\"/>\n",
              "  </svg>\n",
              "      </button>\n",
              "      \n",
              "  <style>\n",
              "    .colab-df-container {\n",
              "      display:flex;\n",
              "      flex-wrap:wrap;\n",
              "      gap: 12px;\n",
              "    }\n",
              "\n",
              "    .colab-df-convert {\n",
              "      background-color: #E8F0FE;\n",
              "      border: none;\n",
              "      border-radius: 50%;\n",
              "      cursor: pointer;\n",
              "      display: none;\n",
              "      fill: #1967D2;\n",
              "      height: 32px;\n",
              "      padding: 0 0 0 0;\n",
              "      width: 32px;\n",
              "    }\n",
              "\n",
              "    .colab-df-convert:hover {\n",
              "      background-color: #E2EBFA;\n",
              "      box-shadow: 0px 1px 2px rgba(60, 64, 67, 0.3), 0px 1px 3px 1px rgba(60, 64, 67, 0.15);\n",
              "      fill: #174EA6;\n",
              "    }\n",
              "\n",
              "    [theme=dark] .colab-df-convert {\n",
              "      background-color: #3B4455;\n",
              "      fill: #D2E3FC;\n",
              "    }\n",
              "\n",
              "    [theme=dark] .colab-df-convert:hover {\n",
              "      background-color: #434B5C;\n",
              "      box-shadow: 0px 1px 3px 1px rgba(0, 0, 0, 0.15);\n",
              "      filter: drop-shadow(0px 1px 2px rgba(0, 0, 0, 0.3));\n",
              "      fill: #FFFFFF;\n",
              "    }\n",
              "  </style>\n",
              "\n",
              "      <script>\n",
              "        const buttonEl =\n",
              "          document.querySelector('#df-e45f59cf-c5cc-4c8d-a70c-b67112f28661 button.colab-df-convert');\n",
              "        buttonEl.style.display =\n",
              "          google.colab.kernel.accessAllowed ? 'block' : 'none';\n",
              "\n",
              "        async function convertToInteractive(key) {\n",
              "          const element = document.querySelector('#df-e45f59cf-c5cc-4c8d-a70c-b67112f28661');\n",
              "          const dataTable =\n",
              "            await google.colab.kernel.invokeFunction('convertToInteractive',\n",
              "                                                     [key], {});\n",
              "          if (!dataTable) return;\n",
              "\n",
              "          const docLinkHtml = 'Like what you see? Visit the ' +\n",
              "            '<a target=\"_blank\" href=https://colab.research.google.com/notebooks/data_table.ipynb>data table notebook</a>'\n",
              "            + ' to learn more about interactive tables.';\n",
              "          element.innerHTML = '';\n",
              "          dataTable['output_type'] = 'display_data';\n",
              "          await google.colab.output.renderOutput(dataTable, element);\n",
              "          const docLink = document.createElement('div');\n",
              "          docLink.innerHTML = docLinkHtml;\n",
              "          element.appendChild(docLink);\n",
              "        }\n",
              "      </script>\n",
              "    </div>\n",
              "  </div>\n",
              "  "
            ]
          },
          "metadata": {},
          "execution_count": 33
        }
      ]
    },
    {
      "cell_type": "markdown",
      "source": [
        "Grafiquemos el precio de las acciones de walmex"
      ],
      "metadata": {
        "id": "UdJi4d792zcq"
      }
    },
    {
      "cell_type": "code",
      "source": [
        "walmex[\"Adj Close\"].plot()\n",
        "plt.title(\"Precio de la accion de Walmart México del 2018 al 2022\")\n",
        "plt.ylabel(\"pesos MXN\")\n",
        "plt.xlabel(\"Día\")\n",
        "plt.xlim(\"2018-01-01\", \"2022-12-31\")\n",
        "plt.show()"
      ],
      "metadata": {
        "id": "oF25rHox23NW",
        "outputId": "bd1761c0-638b-4f91-b01f-63ce6366ca5a",
        "colab": {
          "base_uri": "https://localhost:8080/",
          "height": 293
        }
      },
      "execution_count": null,
      "outputs": [
        {
          "output_type": "display_data",
          "data": {
            "text/plain": [
              "<Figure size 432x288 with 1 Axes>"
            ],
            "image/png": "[encoded data removed]"
          },
          "metadata": {
            "needs_background": "light"
          }
        }
      ]
    },
    {
      "cell_type": "markdown",
      "source": [
        "Vamos a renombrar Adj Close"
      ],
      "metadata": {
        "id": "wzmEdfhn09ia"
      }
    },
    {
      "cell_type": "code",
      "source": [
        "walmex = walmex.rename(columns = {\"Adj Close\":\"adj_close\"})"
      ],
      "metadata": {
        "id": "4RLFD_VX1JSE"
      },
      "execution_count": null,
      "outputs": []
    },
    {
      "cell_type": "code",
      "source": [
        "walmex"
      ],
      "metadata": {
        "id": "oXBe2b90vNlS",
        "outputId": "59cb32cd-f885-4061-93eb-9d9205042192",
        "colab": {
          "base_uri": "https://localhost:8080/",
          "height": 455
        }
      },
      "execution_count": null,
      "outputs": [
        {
          "output_type": "execute_result",
          "data": {
            "text/plain": [
              "                 Open       High        Low      Close  adj_close    Volume\n",
              "Date                                                                       \n",
              "2018-01-02  48.150002  48.590000  47.700001  48.029999  44.102345   8781274\n",
              "2018-01-03  47.910000  48.000000  47.380001  47.590000  43.698334  12656360\n",
              "2018-01-04  47.599998  48.209999  47.490002  47.610001  43.716694  16650871\n",
              "2018-01-05  47.700001  48.169998  47.549999  48.090000  44.157444   9575059\n",
              "2018-01-08  48.099998  48.500000  47.980000  48.320000  44.368637  13856218\n",
              "...               ...        ...        ...        ...        ...       ...\n",
              "2022-12-26  71.449997  71.529999  71.000000  71.099998  71.099998    444593\n",
              "2022-12-27  71.370003  71.820000  70.910004  71.029999  71.029999   3352276\n",
              "2022-12-28  70.910004  71.540001  69.919998  70.000000  70.000000   4871798\n",
              "2022-12-29  70.839996  70.839996  69.120003  69.870003  69.870003   5026928\n",
              "2022-12-30  69.699997  70.190002  68.220001  68.879997  68.879997   7114822\n",
              "\n",
              "[1259 rows x 6 columns]"
            ],
            "text/html": [
              "\n",
              "  <div id=\"df-a4ce547d-1088-4ade-a4c7-2d1673f94e58\">\n",
              "    <div class=\"colab-df-container\">\n",
              "      <div>\n",
              "<style scoped>\n",
              "    .dataframe tbody tr th:only-of-type {\n",
              "        vertical-align: middle;\n",
              "    }\n",
              "\n",
              "    .dataframe tbody tr th {\n",
              "        vertical-align: top;\n",
              "    }\n",
              "\n",
              "    .dataframe thead th {\n",
              "        text-align: right;\n",
              "    }\n",
              "</style>\n",
              "<table border=\"1\" class=\"dataframe\">\n",
              "  <thead>\n",
              "    <tr style=\"text-align: right;\">\n",
              "      <th></th>\n",
              "      <th>Open</th>\n",
              "      <th>High</th>\n",
              "      <th>Low</th>\n",
              "      <th>Close</th>\n",
              "      <th>adj_close</th>\n",
              "      <th>Volume</th>\n",
              "    </tr>\n",
              "    <tr>\n",
              "      <th>Date</th>\n",
              "      <th></th>\n",
              "      <th></th>\n",
              "      <th></th>\n",
              "      <th></th>\n",
              "      <th></th>\n",
              "      <th></th>\n",
              "    </tr>\n",
              "  </thead>\n",
              "  <tbody>\n",
              "    <tr>\n",
              "      <th>2018-01-02</th>\n",
              "      <td>48.150002</td>\n",
              "      <td>48.590000</td>\n",
              "      <td>47.700001</td>\n",
              "      <td>48.029999</td>\n",
              "      <td>44.102345</td>\n",
              "      <td>8781274</td>\n",
              "    </tr>\n",
              "    <tr>\n",
              "      <th>2018-01-03</th>\n",
              "      <td>47.910000</td>\n",
              "      <td>48.000000</td>\n",
              "      <td>47.380001</td>\n",
              "      <td>47.590000</td>\n",
              "      <td>43.698334</td>\n",
              "      <td>12656360</td>\n",
              "    </tr>\n",
              "    <tr>\n",
              "      <th>2018-01-04</th>\n",
              "      <td>47.599998</td>\n",
              "      <td>48.209999</td>\n",
              "      <td>47.490002</td>\n",
              "      <td>47.610001</td>\n",
              "      <td>43.716694</td>\n",
              "      <td>16650871</td>\n",
              "    </tr>\n",
              "    <tr>\n",
              "      <th>2018-01-05</th>\n",
              "      <td>47.700001</td>\n",
              "      <td>48.169998</td>\n",
              "      <td>47.549999</td>\n",
              "      <td>48.090000</td>\n",
              "      <td>44.157444</td>\n",
              "      <td>9575059</td>\n",
              "    </tr>\n",
              "    <tr>\n",
              "      <th>2018-01-08</th>\n",
              "      <td>48.099998</td>\n",
              "      <td>48.500000</td>\n",
              "      <td>47.980000</td>\n",
              "      <td>48.320000</td>\n",
              "      <td>44.368637</td>\n",
              "      <td>13856218</td>\n",
              "    </tr>\n",
              "    <tr>\n",
              "      <th>...</th>\n",
              "      <td>...</td>\n",
              "      <td>...</td>\n",
              "      <td>...</td>\n",
              "      <td>...</td>\n",
              "      <td>...</td>\n",
              "      <td>...</td>\n",
              "    </tr>\n",
              "    <tr>\n",
              "      <th>2022-12-26</th>\n",
              "      <td>71.449997</td>\n",
              "      <td>71.529999</td>\n",
              "      <td>71.000000</td>\n",
              "      <td>71.099998</td>\n",
              "      <td>71.099998</td>\n",
              "      <td>444593</td>\n",
              "    </tr>\n",
              "    <tr>\n",
              "      <th>2022-12-27</th>\n",
              "      <td>71.370003</td>\n",
              "      <td>71.820000</td>\n",
              "      <td>70.910004</td>\n",
              "      <td>71.029999</td>\n",
              "      <td>71.029999</td>\n",
              "      <td>3352276</td>\n",
              "    </tr>\n",
              "    <tr>\n",
              "      <th>2022-12-28</th>\n",
              "      <td>70.910004</td>\n",
              "      <td>71.540001</td>\n",
              "      <td>69.919998</td>\n",
              "      <td>70.000000</td>\n",
              "      <td>70.000000</td>\n",
              "      <td>4871798</td>\n",
              "    </tr>\n",
              "    <tr>\n",
              "      <th>2022-12-29</th>\n",
              "      <td>70.839996</td>\n",
              "      <td>70.839996</td>\n",
              "      <td>69.120003</td>\n",
              "      <td>69.870003</td>\n",
              "      <td>69.870003</td>\n",
              "      <td>5026928</td>\n",
              "    </tr>\n",
              "    <tr>\n",
              "      <th>2022-12-30</th>\n",
              "      <td>69.699997</td>\n",
              "      <td>70.190002</td>\n",
              "      <td>68.220001</td>\n",
              "      <td>68.879997</td>\n",
              "      <td>68.879997</td>\n",
              "      <td>7114822</td>\n",
              "    </tr>\n",
              "  </tbody>\n",
              "</table>\n",
              "<p>1259 rows × 6 columns</p>\n",
              "</div>\n",
              "      <button class=\"colab-df-convert\" onclick=\"convertToInteractive('df-a4ce547d-1088-4ade-a4c7-2d1673f94e58')\"\n",
              "              title=\"Convert this dataframe to an interactive table.\"\n",
              "              style=\"display:none;\">\n",
              "        \n",
              "  <svg xmlns=\"http://www.w3.org/2000/svg\" height=\"24px\"viewBox=\"0 0 24 24\"\n",
              "       width=\"24px\">\n",
              "    <path d=\"M0 0h24v24H0V0z\" fill=\"none\"/>\n",
              "    <path d=\"M18.56 5.44l.94 2.06.94-2.06 2.06-.94-2.06-.94-.94-2.06-.94 2.06-2.06.94zm-11 1L8.5 8.5l.94-2.06 2.06-.94-2.06-.94L8.5 2.5l-.94 2.06-2.06.94zm10 10l.94 2.06.94-2.06 2.06-.94-2.06-.94-.94-2.06-.94 2.06-2.06.94z\"/><path d=\"M17.41 7.96l-1.37-1.37c-.4-.4-.92-.59-1.43-.59-.52 0-1.04.2-1.43.59L10.3 9.45l-7.72 7.72c-.78.78-.78 2.05 0 2.83L4 21.41c.39.39.9.59 1.41.59.51 0 1.02-.2 1.41-.59l7.78-7.78 2.81-2.81c.8-.78.8-2.07 0-2.86zM5.41 20L4 18.59l7.72-7.72 1.47 1.35L5.41 20z\"/>\n",
              "  </svg>\n",
              "      </button>\n",
              "      \n",
              "  <style>\n",
              "    .colab-df-container {\n",
              "      display:flex;\n",
              "      flex-wrap:wrap;\n",
              "      gap: 12px;\n",
              "    }\n",
              "\n",
              "    .colab-df-convert {\n",
              "      background-color: #E8F0FE;\n",
              "      border: none;\n",
              "      border-radius: 50%;\n",
              "      cursor: pointer;\n",
              "      display: none;\n",
              "      fill: #1967D2;\n",
              "      height: 32px;\n",
              "      padding: 0 0 0 0;\n",
              "      width: 32px;\n",
              "    }\n",
              "\n",
              "    .colab-df-convert:hover {\n",
              "      background-color: #E2EBFA;\n",
              "      box-shadow: 0px 1px 2px rgba(60, 64, 67, 0.3), 0px 1px 3px 1px rgba(60, 64, 67, 0.15);\n",
              "      fill: #174EA6;\n",
              "    }\n",
              "\n",
              "    [theme=dark] .colab-df-convert {\n",
              "      background-color: #3B4455;\n",
              "      fill: #D2E3FC;\n",
              "    }\n",
              "\n",
              "    [theme=dark] .colab-df-convert:hover {\n",
              "      background-color: #434B5C;\n",
              "      box-shadow: 0px 1px 3px 1px rgba(0, 0, 0, 0.15);\n",
              "      filter: drop-shadow(0px 1px 2px rgba(0, 0, 0, 0.3));\n",
              "      fill: #FFFFFF;\n",
              "    }\n",
              "  </style>\n",
              "\n",
              "      <script>\n",
              "        const buttonEl =\n",
              "          document.querySelector('#df-a4ce547d-1088-4ade-a4c7-2d1673f94e58 button.colab-df-convert');\n",
              "        buttonEl.style.display =\n",
              "          google.colab.kernel.accessAllowed ? 'block' : 'none';\n",
              "\n",
              "        async function convertToInteractive(key) {\n",
              "          const element = document.querySelector('#df-a4ce547d-1088-4ade-a4c7-2d1673f94e58');\n",
              "          const dataTable =\n",
              "            await google.colab.kernel.invokeFunction('convertToInteractive',\n",
              "                                                     [key], {});\n",
              "          if (!dataTable) return;\n",
              "\n",
              "          const docLinkHtml = 'Like what you see? Visit the ' +\n",
              "            '<a target=\"_blank\" href=https://colab.research.google.com/notebooks/data_table.ipynb>data table notebook</a>'\n",
              "            + ' to learn more about interactive tables.';\n",
              "          element.innerHTML = '';\n",
              "          dataTable['output_type'] = 'display_data';\n",
              "          await google.colab.output.renderOutput(dataTable, element);\n",
              "          const docLink = document.createElement('div');\n",
              "          docLink.innerHTML = docLinkHtml;\n",
              "          element.appendChild(docLink);\n",
              "        }\n",
              "      </script>\n",
              "    </div>\n",
              "  </div>\n",
              "  "
            ]
          },
          "metadata": {},
          "execution_count": 48
        }
      ]
    },
    {
      "cell_type": "code",
      "source": [
        "walmex[\"adj_close\"].mean().round()"
      ],
      "metadata": {
        "id": "AP-MCvRcuhZn",
        "outputId": "1d4fca18-a2d9-4188-aa39-6361a2c62a30",
        "colab": {
          "base_uri": "https://localhost:8080/"
        }
      },
      "execution_count": null,
      "outputs": [
        {
          "output_type": "execute_result",
          "data": {
            "text/plain": [
              "58.0"
            ]
          },
          "metadata": {},
          "execution_count": 49
        }
      ]
    },
    {
      "cell_type": "markdown",
      "source": [
        "Vamos a calcular los return (rendimiento) de las acciones de walmart, usando .pct_change() de pandas"
      ],
      "metadata": {
        "id": "WGyDLGLw1KN8"
      }
    },
    {
      "cell_type": "code",
      "source": [
        "walmex[\"return\"] = walmex[\"adj_close\"].pct_change()"
      ],
      "metadata": {
        "id": "M879tNVg1V_H"
      },
      "execution_count": null,
      "outputs": []
    },
    {
      "cell_type": "code",
      "source": [
        "walmex.head()"
      ],
      "metadata": {
        "id": "h4AC2AQ6vx5I",
        "outputId": "4b8a7363-4c96-48c3-d040-e1dbec1c413e",
        "colab": {
          "base_uri": "https://localhost:8080/",
          "height": 238
        }
      },
      "execution_count": null,
      "outputs": [
        {
          "output_type": "execute_result",
          "data": {
            "text/plain": [
              "                 Open       High        Low      Close  adj_close    Volume  \\\n",
              "Date                                                                          \n",
              "2018-01-02  48.150002  48.590000  47.700001  48.029999  44.102345   8781274   \n",
              "2018-01-03  47.910000  48.000000  47.380001  47.590000  43.698334  12656360   \n",
              "2018-01-04  47.599998  48.209999  47.490002  47.610001  43.716694  16650871   \n",
              "2018-01-05  47.700001  48.169998  47.549999  48.090000  44.157444   9575059   \n",
              "2018-01-08  48.099998  48.500000  47.980000  48.320000  44.368637  13856218   \n",
              "\n",
              "              return  \n",
              "Date                  \n",
              "2018-01-02       NaN  \n",
              "2018-01-03 -0.009161  \n",
              "2018-01-04  0.000420  \n",
              "2018-01-05  0.010082  \n",
              "2018-01-08  0.004783  "
            ],
            "text/html": [
              "\n",
              "  <div id=\"df-20c27e5b-9399-40e9-aab7-e47f551cd91f\">\n",
              "    <div class=\"colab-df-container\">\n",
              "      <div>\n",
              "<style scoped>\n",
              "    .dataframe tbody tr th:only-of-type {\n",
              "        vertical-align: middle;\n",
              "    }\n",
              "\n",
              "    .dataframe tbody tr th {\n",
              "        vertical-align: top;\n",
              "    }\n",
              "\n",
              "    .dataframe thead th {\n",
              "        text-align: right;\n",
              "    }\n",
              "</style>\n",
              "<table border=\"1\" class=\"dataframe\">\n",
              "  <thead>\n",
              "    <tr style=\"text-align: right;\">\n",
              "      <th></th>\n",
              "      <th>Open</th>\n",
              "      <th>High</th>\n",
              "      <th>Low</th>\n",
              "      <th>Close</th>\n",
              "      <th>adj_close</th>\n",
              "      <th>Volume</th>\n",
              "      <th>return</th>\n",
              "    </tr>\n",
              "    <tr>\n",
              "      <th>Date</th>\n",
              "      <th></th>\n",
              "      <th></th>\n",
              "      <th></th>\n",
              "      <th></th>\n",
              "      <th></th>\n",
              "      <th></th>\n",
              "      <th></th>\n",
              "    </tr>\n",
              "  </thead>\n",
              "  <tbody>\n",
              "    <tr>\n",
              "      <th>2018-01-02</th>\n",
              "      <td>48.150002</td>\n",
              "      <td>48.590000</td>\n",
              "      <td>47.700001</td>\n",
              "      <td>48.029999</td>\n",
              "      <td>44.102345</td>\n",
              "      <td>8781274</td>\n",
              "      <td>NaN</td>\n",
              "    </tr>\n",
              "    <tr>\n",
              "      <th>2018-01-03</th>\n",
              "      <td>47.910000</td>\n",
              "      <td>48.000000</td>\n",
              "      <td>47.380001</td>\n",
              "      <td>47.590000</td>\n",
              "      <td>43.698334</td>\n",
              "      <td>12656360</td>\n",
              "      <td>-0.009161</td>\n",
              "    </tr>\n",
              "    <tr>\n",
              "      <th>2018-01-04</th>\n",
              "      <td>47.599998</td>\n",
              "      <td>48.209999</td>\n",
              "      <td>47.490002</td>\n",
              "      <td>47.610001</td>\n",
              "      <td>43.716694</td>\n",
              "      <td>16650871</td>\n",
              "      <td>0.000420</td>\n",
              "    </tr>\n",
              "    <tr>\n",
              "      <th>2018-01-05</th>\n",
              "      <td>47.700001</td>\n",
              "      <td>48.169998</td>\n",
              "      <td>47.549999</td>\n",
              "      <td>48.090000</td>\n",
              "      <td>44.157444</td>\n",
              "      <td>9575059</td>\n",
              "      <td>0.010082</td>\n",
              "    </tr>\n",
              "    <tr>\n",
              "      <th>2018-01-08</th>\n",
              "      <td>48.099998</td>\n",
              "      <td>48.500000</td>\n",
              "      <td>47.980000</td>\n",
              "      <td>48.320000</td>\n",
              "      <td>44.368637</td>\n",
              "      <td>13856218</td>\n",
              "      <td>0.004783</td>\n",
              "    </tr>\n",
              "  </tbody>\n",
              "</table>\n",
              "</div>\n",
              "      <button class=\"colab-df-convert\" onclick=\"convertToInteractive('df-20c27e5b-9399-40e9-aab7-e47f551cd91f')\"\n",
              "              title=\"Convert this dataframe to an interactive table.\"\n",
              "              style=\"display:none;\">\n",
              "        \n",
              "  <svg xmlns=\"http://www.w3.org/2000/svg\" height=\"24px\"viewBox=\"0 0 24 24\"\n",
              "       width=\"24px\">\n",
              "    <path d=\"M0 0h24v24H0V0z\" fill=\"none\"/>\n",
              "    <path d=\"M18.56 5.44l.94 2.06.94-2.06 2.06-.94-2.06-.94-.94-2.06-.94 2.06-2.06.94zm-11 1L8.5 8.5l.94-2.06 2.06-.94-2.06-.94L8.5 2.5l-.94 2.06-2.06.94zm10 10l.94 2.06.94-2.06 2.06-.94-2.06-.94-.94-2.06-.94 2.06-2.06.94z\"/><path d=\"M17.41 7.96l-1.37-1.37c-.4-.4-.92-.59-1.43-.59-.52 0-1.04.2-1.43.59L10.3 9.45l-7.72 7.72c-.78.78-.78 2.05 0 2.83L4 21.41c.39.39.9.59 1.41.59.51 0 1.02-.2 1.41-.59l7.78-7.78 2.81-2.81c.8-.78.8-2.07 0-2.86zM5.41 20L4 18.59l7.72-7.72 1.47 1.35L5.41 20z\"/>\n",
              "  </svg>\n",
              "      </button>\n",
              "      \n",
              "  <style>\n",
              "    .colab-df-container {\n",
              "      display:flex;\n",
              "      flex-wrap:wrap;\n",
              "      gap: 12px;\n",
              "    }\n",
              "\n",
              "    .colab-df-convert {\n",
              "      background-color: #E8F0FE;\n",
              "      border: none;\n",
              "      border-radius: 50%;\n",
              "      cursor: pointer;\n",
              "      display: none;\n",
              "      fill: #1967D2;\n",
              "      height: 32px;\n",
              "      padding: 0 0 0 0;\n",
              "      width: 32px;\n",
              "    }\n",
              "\n",
              "    .colab-df-convert:hover {\n",
              "      background-color: #E2EBFA;\n",
              "      box-shadow: 0px 1px 2px rgba(60, 64, 67, 0.3), 0px 1px 3px 1px rgba(60, 64, 67, 0.15);\n",
              "      fill: #174EA6;\n",
              "    }\n",
              "\n",
              "    [theme=dark] .colab-df-convert {\n",
              "      background-color: #3B4455;\n",
              "      fill: #D2E3FC;\n",
              "    }\n",
              "\n",
              "    [theme=dark] .colab-df-convert:hover {\n",
              "      background-color: #434B5C;\n",
              "      box-shadow: 0px 1px 3px 1px rgba(0, 0, 0, 0.15);\n",
              "      filter: drop-shadow(0px 1px 2px rgba(0, 0, 0, 0.3));\n",
              "      fill: #FFFFFF;\n",
              "    }\n",
              "  </style>\n",
              "\n",
              "      <script>\n",
              "        const buttonEl =\n",
              "          document.querySelector('#df-20c27e5b-9399-40e9-aab7-e47f551cd91f button.colab-df-convert');\n",
              "        buttonEl.style.display =\n",
              "          google.colab.kernel.accessAllowed ? 'block' : 'none';\n",
              "\n",
              "        async function convertToInteractive(key) {\n",
              "          const element = document.querySelector('#df-20c27e5b-9399-40e9-aab7-e47f551cd91f');\n",
              "          const dataTable =\n",
              "            await google.colab.kernel.invokeFunction('convertToInteractive',\n",
              "                                                     [key], {});\n",
              "          if (!dataTable) return;\n",
              "\n",
              "          const docLinkHtml = 'Like what you see? Visit the ' +\n",
              "            '<a target=\"_blank\" href=https://colab.research.google.com/notebooks/data_table.ipynb>data table notebook</a>'\n",
              "            + ' to learn more about interactive tables.';\n",
              "          element.innerHTML = '';\n",
              "          dataTable['output_type'] = 'display_data';\n",
              "          await google.colab.output.renderOutput(dataTable, element);\n",
              "          const docLink = document.createElement('div');\n",
              "          docLink.innerHTML = docLinkHtml;\n",
              "          element.appendChild(docLink);\n",
              "        }\n",
              "      </script>\n",
              "    </div>\n",
              "  </div>\n",
              "  "
            ]
          },
          "metadata": {},
          "execution_count": 51
        }
      ]
    },
    {
      "cell_type": "markdown",
      "source": [
        "Vamos a ver su histograma"
      ],
      "metadata": {
        "id": "rF9B6pPs4Dhy"
      }
    },
    {
      "cell_type": "code",
      "source": [
        "walmex[\"return\"].plot.hist(bins=50);"
      ],
      "metadata": {
        "id": "Kw0TKCIy4GE-",
        "outputId": "986f52f6-630b-4674-fd17-ff41c53b81bd",
        "colab": {
          "base_uri": "https://localhost:8080/",
          "height": 265
        }
      },
      "execution_count": null,
      "outputs": [
        {
          "output_type": "display_data",
          "data": {
            "text/plain": [
              "<Figure size 432x288 with 1 Axes>"
            ],
            "image/png": "[encoded data removed]"
          },
          "metadata": {
            "needs_background": "light"
          }
        }
      ]
    },
    {
      "cell_type": "code",
      "source": [
        "walmex[\"return\"].mean().round(6)"
      ],
      "metadata": {
        "id": "ltck8bjQwvDc",
        "outputId": "7a4c1073-7cfb-45aa-93bd-fe770e6aee85",
        "colab": {
          "base_uri": "https://localhost:8080/"
        }
      },
      "execution_count": null,
      "outputs": [
        {
          "output_type": "execute_result",
          "data": {
            "text/plain": [
              "0.000494"
            ]
          },
          "metadata": {},
          "execution_count": 56
        }
      ]
    },
    {
      "cell_type": "markdown",
      "source": [
        "Supongamos que ahora, alguien nos pregunta qué cuál es el rendimiento promedio de las acciones de walt-mart México.\n",
        "\n",
        "Note que nosotros tenemos una muestra, los datos del año 2017.\n",
        "\n",
        "La población total, o los datos completos serían los datos de todos los años que existirá walmart de México, los años pasados y futuros."
      ],
      "metadata": {
        "id": "NGnx9IHD1iio"
      }
    },
    {
      "cell_type": "markdown",
      "source": [
        "Nos gustaria construir un intervalo de confianza del 95% para el precio de las acciones de walmart"
      ],
      "metadata": {
        "id": "5QB8d8fc4K23"
      }
    },
    {
      "cell_type": "markdown",
      "source": [
        "Recuerde que si el intervalo de confianza al 95% de confianza es\n",
        "\n",
        "IC(95%) = media +- 1.96 SE \n",
        "\n"
      ],
      "metadata": {
        "id": "qI_TThnd45yV"
      }
    },
    {
      "cell_type": "code",
      "source": [
        "media = walmex[\"return\"].mean()\n",
        "desv_est = walmex[\"return\"].std(ddof=1)"
      ],
      "metadata": {
        "id": "iYsHOiuk4UJ7"
      },
      "execution_count": null,
      "outputs": []
    },
    {
      "cell_type": "code",
      "source": [
        "limite_superior = media + (1.96 * desv_est)\n",
        "limite_inferior = media -(1.96 * desv_est)"
      ],
      "metadata": {
        "id": "K2YSNvy0xmNP"
      },
      "execution_count": null,
      "outputs": []
    },
    {
      "cell_type": "code",
      "source": [
        "limite_inferior.round(3), limite_superior.round(3)"
      ],
      "metadata": {
        "id": "ZtcUSFwax6Zz",
        "outputId": "a3ca38a7-41b0-4e2d-b8fe-904c38e5c6f2",
        "colab": {
          "base_uri": "https://localhost:8080/"
        }
      },
      "execution_count": null,
      "outputs": [
        {
          "output_type": "execute_result",
          "data": {
            "text/plain": [
              "(-0.032, 0.033)"
            ]
          },
          "metadata": {},
          "execution_count": 63
        }
      ]
    },
    {
      "cell_type": "markdown",
      "source": [
        "Ahora nos gustaria probar la hipótesis de que el rendimiento de las acciones de walmart es 0.0006 "
      ],
      "metadata": {
        "id": "Jyy1lCMM53vn"
      }
    },
    {
      "cell_type": "markdown",
      "source": [
        "$H_0: \\mu=0.0006$\n",
        "\n",
        "$H_a: \\mu \\neq 0.0006$\n"
      ],
      "metadata": {
        "id": "Zw02kpHW6t7A"
      }
    },
    {
      "cell_type": "code",
      "source": [
        "media_ho = 0.0006\n",
        "n = 1250\n",
        "raiz_n = n ** 0.5"
      ],
      "metadata": {
        "id": "vq6nJ1J66lga"
      },
      "execution_count": null,
      "outputs": []
    },
    {
      "cell_type": "code",
      "source": [
        "walmex.value_counts(\"return\")"
      ],
      "metadata": {
        "id": "tXm-p1PM7xqn",
        "outputId": "7c6978fa-4196-46ad-be11-5e40591ecb65",
        "colab": {
          "base_uri": "https://localhost:8080/"
        }
      },
      "execution_count": null,
      "outputs": [
        {
          "output_type": "execute_result",
          "data": {
            "text/plain": [
              "return\n",
              " 0.000000    8\n",
              " 0.008189    2\n",
              " 0.006898    1\n",
              " 0.006880    1\n",
              " 0.006877    1\n",
              "            ..\n",
              "-0.005670    1\n",
              "-0.005716    1\n",
              "-0.005750    1\n",
              "-0.005753    1\n",
              " 0.068265    1\n",
              "Length: 1250, dtype: int64"
            ]
          },
          "metadata": {},
          "execution_count": 72
        }
      ]
    },
    {
      "cell_type": "code",
      "source": [
        "estadistico_prueba = (media - media_ho) / (desv_est/ raiz_n)"
      ],
      "metadata": {
        "id": "XG84pIFv7x-M"
      },
      "execution_count": null,
      "outputs": []
    },
    {
      "cell_type": "code",
      "source": [
        "estadistico_prueba"
      ],
      "metadata": {
        "id": "2HCTseWS0fYk",
        "outputId": "f7c435f0-e08a-4a75-f55b-fca72853f4de",
        "colab": {
          "base_uri": "https://localhost:8080/"
        }
      },
      "execution_count": null,
      "outputs": [
        {
          "output_type": "execute_result",
          "data": {
            "text/plain": [
              "-0.22558694560504905"
            ]
          },
          "metadata": {},
          "execution_count": 74
        }
      ]
    },
    {
      "cell_type": "markdown",
      "source": [
        "No se rechaza Ho, 0.0006 es un valor posible del verdadero rendimiento promedio de la accion de walmart"
      ],
      "metadata": {
        "id": "4-q2Me_5087o"
      }
    },
    {
      "cell_type": "markdown",
      "source": [
        "p-value es el nivel de signifancia exacto de la prueba de hipótesis "
      ],
      "metadata": {
        "id": "EBxKL2447y2b"
      }
    },
    {
      "cell_type": "code",
      "source": [
        "from scipy.stats import norm"
      ],
      "metadata": {
        "id": "txojk5iT8Nov"
      },
      "execution_count": null,
      "outputs": []
    },
    {
      "cell_type": "code",
      "source": [
        "prob_ztest = norm.cdf(z_test).round(2)\n",
        "## como es una prueba de 2 colas el p-value es 2 veces\n",
        "## prob_ztest\n",
        "p_value = 2 * prob_ztest"
      ],
      "metadata": {
        "id": "moVffcxH78nq"
      },
      "execution_count": null,
      "outputs": []
    },
    {
      "cell_type": "markdown",
      "source": [
        "Regla de decisión: si el **p-valor**$ < \\alpha $ entonces rechazar $H_0$."
      ],
      "metadata": {
        "id": "2jhfj72H8FPR"
      }
    }
  ]
}