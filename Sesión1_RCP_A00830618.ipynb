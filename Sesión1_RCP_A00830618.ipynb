{
  "nbformat": 4,
  "nbformat_minor": 0,
  "metadata": {
    "colab": {
      "provenance": [],
      "authorship_tag": "ABX9TyOawIqL3V1MVtkcSt0eX0VA",
      "include_colab_link": true
    },
    "kernelspec": {
      "name": "python3",
      "display_name": "Python 3"
    },
    "language_info": {
      "name": "python"
    }
  },
  "cells": [
    {
      "cell_type": "markdown",
      "metadata": {
        "id": "view-in-github",
        "colab_type": "text"
      },
      "source": [
        "<a href=\"https://colab.research.google.com/github/a00830618/SeriesDeTiempo_RCP_A00830618/blob/main/Sesi%C3%B3n1_RCP_A00830618.ipynb\" target=\"_parent\"><img src=\"https://colab.research.google.com/assets/colab-badge.svg\" alt=\"Open In Colab\"/></a>"
      ]
    },
    {
      "cell_type": "markdown",
      "source": [
        "# Series de tiempo\n",
        "## Raúl Castañeda Parra A00830618\n",
        "### Sesión 1, 14 de febrero de 2023\n"
      ],
      "metadata": {
        "id": "aP29c7sPOclG"
      }
    },
    {
      "cell_type": "code",
      "source": [
        "variable1=3"
      ],
      "metadata": {
        "id": "dKpXukOuRrnC"
      },
      "execution_count": 5,
      "outputs": []
    },
    {
      "cell_type": "code",
      "source": [
        "variable1"
      ],
      "metadata": {
        "colab": {
          "base_uri": "https://localhost:8080/"
        },
        "id": "FFwcRrESS0Sb",
        "outputId": "a688a93d-c548-4b00-fa9f-e1a5a397cec8"
      },
      "execution_count": 7,
      "outputs": [
        {
          "output_type": "execute_result",
          "data": {
            "text/plain": [
              "3"
            ]
          },
          "metadata": {},
          "execution_count": 7
        }
      ]
    },
    {
      "cell_type": "code",
      "source": [
        "variable2=5.8"
      ],
      "metadata": {
        "id": "qFVeMmHvSrXX"
      },
      "execution_count": 6,
      "outputs": []
    },
    {
      "cell_type": "code",
      "source": [
        "variable2"
      ],
      "metadata": {
        "colab": {
          "base_uri": "https://localhost:8080/"
        },
        "id": "58NSNz-yS2ep",
        "outputId": "1fb4b7c7-4086-4ef9-b447-a850abceffb3"
      },
      "execution_count": 8,
      "outputs": [
        {
          "output_type": "execute_result",
          "data": {
            "text/plain": [
              "5.8"
            ]
          },
          "metadata": {},
          "execution_count": 8
        }
      ]
    },
    {
      "cell_type": "code",
      "source": [
        "variable3='Raúl'"
      ],
      "metadata": {
        "id": "ISDqWQMJS_D7"
      },
      "execution_count": 9,
      "outputs": []
    },
    {
      "cell_type": "code",
      "source": [
        "variable3"
      ],
      "metadata": {
        "colab": {
          "base_uri": "https://localhost:8080/",
          "height": 35
        },
        "id": "cGsedZX6TJOP",
        "outputId": "57f3aec9-eacd-48b5-e150-1b6b8e40d2dd"
      },
      "execution_count": 10,
      "outputs": [
        {
          "output_type": "execute_result",
          "data": {
            "text/plain": [
              "'Raúl'"
            ],
            "application/vnd.google.colaboratory.intrinsic+json": {
              "type": "string"
            }
          },
          "metadata": {},
          "execution_count": 10
        }
      ]
    },
    {
      "cell_type": "code",
      "source": [
        "print('yo soy',variable3)"
      ],
      "metadata": {
        "colab": {
          "base_uri": "https://localhost:8080/"
        },
        "id": "ubkS61UfTOr0",
        "outputId": "32491355-9bde-46c1-8f31-b0516897e89e"
      },
      "execution_count": 11,
      "outputs": [
        {
          "output_type": "stream",
          "name": "stdout",
          "text": [
            "yo soy Raúl\n"
          ]
        }
      ]
    },
    {
      "cell_type": "code",
      "source": [
        "type(variable1)"
      ],
      "metadata": {
        "colab": {
          "base_uri": "https://localhost:8080/"
        },
        "id": "dXXYBImcUBTz",
        "outputId": "e5e1b9dc-59dd-4ce7-fe67-052fc3398e8e"
      },
      "execution_count": 12,
      "outputs": [
        {
          "output_type": "execute_result",
          "data": {
            "text/plain": [
              "int"
            ]
          },
          "metadata": {},
          "execution_count": 12
        }
      ]
    },
    {
      "cell_type": "code",
      "source": [
        "type(variable2)"
      ],
      "metadata": {
        "colab": {
          "base_uri": "https://localhost:8080/"
        },
        "id": "0hFAr87UUFTX",
        "outputId": "e76d7415-34a5-4ab0-ee55-3f7703baf0d9"
      },
      "execution_count": 14,
      "outputs": [
        {
          "output_type": "execute_result",
          "data": {
            "text/plain": [
              "float"
            ]
          },
          "metadata": {},
          "execution_count": 14
        }
      ]
    },
    {
      "cell_type": "code",
      "source": [
        "type(variable3)"
      ],
      "metadata": {
        "colab": {
          "base_uri": "https://localhost:8080/"
        },
        "id": "1FC9NoLkUP_6",
        "outputId": "7cb6c398-5b98-4e3c-da9a-d561de7f9cec"
      },
      "execution_count": 15,
      "outputs": [
        {
          "output_type": "execute_result",
          "data": {
            "text/plain": [
              "str"
            ]
          },
          "metadata": {},
          "execution_count": 15
        }
      ]
    },
    {
      "cell_type": "code",
      "source": [
        "variable1+variable2"
      ],
      "metadata": {
        "colab": {
          "base_uri": "https://localhost:8080/"
        },
        "id": "7hDvZJX9VCDi",
        "outputId": "5c90ece4-b141-446f-ab67-d14e7121b7b5"
      },
      "execution_count": 16,
      "outputs": [
        {
          "output_type": "execute_result",
          "data": {
            "text/plain": [
              "8.8"
            ]
          },
          "metadata": {},
          "execution_count": 16
        }
      ]
    },
    {
      "cell_type": "code",
      "source": [
        "print('la suma es',variable1+variable2)"
      ],
      "metadata": {
        "colab": {
          "base_uri": "https://localhost:8080/"
        },
        "id": "ewCjNRJgVF7T",
        "outputId": "8caf0aed-4be6-4dfa-c1ee-98b79e337438"
      },
      "execution_count": 18,
      "outputs": [
        {
          "output_type": "stream",
          "name": "stdout",
          "text": [
            "la suma es 8.8\n"
          ]
        }
      ]
    },
    {
      "cell_type": "code",
      "source": [
        "MiFamilia=['Raul','Beatriz','Raúl','Pablo']"
      ],
      "metadata": {
        "id": "FgkGnxiOV_xU"
      },
      "execution_count": 21,
      "outputs": []
    },
    {
      "cell_type": "code",
      "source": [
        "print(MiFamilia)"
      ],
      "metadata": {
        "colab": {
          "base_uri": "https://localhost:8080/"
        },
        "id": "oCoBC7mCWUck",
        "outputId": "69e549e8-6257-46b6-ff5d-fe7f4973db8e"
      },
      "execution_count": 22,
      "outputs": [
        {
          "output_type": "stream",
          "name": "stdout",
          "text": [
            "['Raul', 'Beatriz', 'Raúl', 'Pablo']\n"
          ]
        }
      ]
    }
  ]
}